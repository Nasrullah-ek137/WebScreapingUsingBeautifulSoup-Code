{
 "cells": [
  {
   "cell_type": "markdown",
   "id": "ed2c9dc2-71ab-44d7-ae80-63150a382b3f",
   "metadata": {},
   "source": [
    "# Kinds of obj bs in web scrap"
   ]
  },
  {
   "cell_type": "code",
   "execution_count": null,
   "id": "53874b18-6ca0-4ba0-9068-5007a524e0f3",
   "metadata": {},
   "outputs": [],
   "source": []
  }
 ],
 "metadata": {
  "kernelspec": {
   "display_name": "Python 3 (ipykernel)",
   "language": "python",
   "name": "python3"
  },
  "language_info": {
   "codemirror_mode": {
    "name": "ipython",
    "version": 3
   },
   "file_extension": ".py",
   "mimetype": "text/x-python",
   "name": "python",
   "nbconvert_exporter": "python",
   "pygments_lexer": "ipython3",
   "version": "3.12.4"
  }
 },
 "nbformat": 4,
 "nbformat_minor": 5
}
